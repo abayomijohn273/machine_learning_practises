{
 "cells": [
  {
   "cell_type": "code",
   "execution_count": 7,
   "id": "6c8167a9-b3db-4348-b2f8-43ed490af6bc",
   "metadata": {},
   "outputs": [
    {
     "name": "stdout",
     "output_type": "stream",
     "text": [
      "Hello world\n"
     ]
    }
   ],
   "source": [
    "print(\"Hello world\")"
   ]
  },
  {
   "cell_type": "code",
   "execution_count": 16,
   "id": "ed5f2719-ee16-4436-a988-c8cd136bc70c",
   "metadata": {},
   "outputs": [
    {
     "name": "stdout",
     "output_type": "stream",
     "text": [
      "nah\n"
     ]
    }
   ],
   "source": [
    "a=1;\n",
    "if(a > 1):  \n",
    "    print('Yay')\n",
    "elif(a < 2):\n",
    "    print('nah')"
   ]
  },
  {
   "cell_type": "code",
   "execution_count": 19,
   "id": "ed852b10-9f6b-47c1-84f3-c4050df7fd30",
   "metadata": {},
   "outputs": [],
   "source": [
    "setData = {\"Bayo\", \"Tunde\", \"Yemi\"}"
   ]
  },
  {
   "cell_type": "code",
   "execution_count": 25,
   "id": "0b665538-0065-48bb-b926-40be9e9b490e",
   "metadata": {},
   "outputs": [
    {
     "name": "stdout",
     "output_type": "stream",
     "text": [
      "{'Bayo', 'Tunde', 'Yemi'}\n"
     ]
    }
   ],
   "source": [
    "print(setData)"
   ]
  },
  {
   "cell_type": "code",
   "execution_count": 27,
   "id": "6d376650-fe7f-45a2-82de-1102427fe591",
   "metadata": {},
   "outputs": [
    {
     "name": "stdout",
     "output_type": "stream",
     "text": [
      "{'Bayo', 'Tunde', 'Yemi'}\n"
     ]
    }
   ],
   "source": [
    "print(setData)"
   ]
  },
  {
   "cell_type": "code",
   "execution_count": 1,
   "id": "f26dea70-5cf7-4d98-9fdf-67115c3ec415",
   "metadata": {},
   "outputs": [
    {
     "name": "stdout",
     "output_type": "stream",
     "text": [
      "Name: Abayomi, Age: 32, Grade: A\n"
     ]
    }
   ],
   "source": [
    "class Student:\n",
    "  def __init__(self, name, age, grade):\n",
    "    self.name = name\n",
    "    self.age = age\n",
    "    self.grade = grade\n",
    "  \n",
    "  def display_info(self):\n",
    "    print(f\"Name: {self.name}, Age: {self.age}, Grade: {self.grade}\")\n",
    "\n",
    "student1 = Student(\"Abayomi\", 32, \"A\")\n",
    "student1.display_info()"
   ]
  },
  {
   "cell_type": "code",
   "execution_count": 3,
   "id": "3ed80b7a",
   "metadata": {},
   "outputs": [],
   "source": [
    "class Person(Student):\n",
    "  def __init__(self, name, age, grade):\n",
    "    super().__init__(self, name, age, grade)"
   ]
  },
  {
   "cell_type": "code",
   "execution_count": 1,
   "id": "63c6cc87",
   "metadata": {},
   "outputs": [
    {
     "name": "stdout",
     "output_type": "stream",
     "text": [
      "Hello\n"
     ]
    }
   ],
   "source": [
    "\n",
    "print(\"Hello\")"
   ]
  },
  {
   "cell_type": "code",
   "execution_count": null,
   "id": "5db2eae2",
   "metadata": {},
   "outputs": [],
   "source": []
  }
 ],
 "metadata": {
  "kernelspec": {
   "display_name": "Python 3 (ipykernel)",
   "language": "python",
   "name": "python3"
  },
  "language_info": {
   "codemirror_mode": {
    "name": "ipython",
    "version": 3
   },
   "file_extension": ".py",
   "mimetype": "text/x-python",
   "name": "python",
   "nbconvert_exporter": "python",
   "pygments_lexer": "ipython3",
   "version": "3.12.4"
  }
 },
 "nbformat": 4,
 "nbformat_minor": 5
}
