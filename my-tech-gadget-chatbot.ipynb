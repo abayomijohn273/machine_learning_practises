{
 "cells": [
  {
   "cell_type": "code",
   "execution_count": 52,
   "id": "932890cd",
   "metadata": {},
   "outputs": [],
   "source": [
    "# Tech Gadget Customer Support Chatbot"
   ]
  },
  {
   "cell_type": "code",
   "execution_count": 70,
   "id": "9fce1bb1",
   "metadata": {},
   "outputs": [],
   "source": [
    "responses = {\n",
    "    \"hi\": \"Hello! Welcome to TechGadget Support. How can I assist you today?\",\n",
    "    \"do you have smartwatches\": \"Yes, we have a variety of smartwatches. You can check them out on our products page.\",\n",
    "    \"shipping time\": \"Shipping usually takes 3-5 business days.\",\n",
    "    \"shipping methods\": \"We offer standard, expedited, and overnight shipping.\",\n",
    "    \"return policy\": \"You can return products within 30 days of receipt for a full refund.\",\n",
    "    \"how to return\": \"To return a product, please visit our returns page for a step-by-step guide.\",\n",
    "    \"won’t turn on\": \"Make sure your gadget is charged. If it still won’t turn on, you can visit our troubleshooting page.\",\n",
    "    \"reset device\": \"To reset your device, hold down the power button for 10 seconds. If that doesn't work, please check the manual for a factory reset.\",\n",
    "    \"bye\": \"Thank you for visiting TechGadget. If you have more questions, feel free to ask. Goodbye!\"\n",
    "}"
   ]
  },
  {
   "cell_type": "code",
   "execution_count": 71,
   "id": "94edc3d9",
   "metadata": {},
   "outputs": [],
   "source": [
    "default_bot_response = \"I'm not sure how to respond to that. Can you try asking something else?\"\n",
    "retry_time = 3"
   ]
  },
  {
   "cell_type": "code",
   "execution_count": 76,
   "id": "f1b24a2e",
   "metadata": {},
   "outputs": [],
   "source": [
    "def get_bot_response(user_input):\n",
    "    user_input = user_input.lower()\n",
    "    \n",
    "    for keyword, response in responses.items():\n",
    "        if keyword in user_input:\n",
    "            return response\n",
    "        \n",
    "    return default_bot_response"
   ]
  },
  {
   "cell_type": "code",
   "execution_count": 77,
   "id": "f15102f3",
   "metadata": {},
   "outputs": [],
   "source": [
    "def get_error_response(response, error_count):\n",
    "    if response == default_bot_response and error_count <= retry_time:\n",
    "        error_count = error_count + 1;\n",
    "        return error_count;\n",
    "    \n",
    "    error_count = 1;\n",
    "    return error_count;"
   ]
  },
  {
   "cell_type": "code",
   "execution_count": 78,
   "id": "19c2db5b",
   "metadata": {},
   "outputs": [],
   "source": [
    "def display_bot_response(response, error_count):\n",
    "    output = \"\"\n",
    "    if error_count > retry_time:\n",
    "        output = \"I'm would suggest you reach out to our customer support for swift response\"\n",
    "    else:\n",
    "        output = response\n",
    "        \n",
    "    print(f\"Bot: {output}\")\n",
    "        "
   ]
  },
  {
   "cell_type": "code",
   "execution_count": 79,
   "id": "18e6af03",
   "metadata": {},
   "outputs": [
    {
     "name": "stdout",
     "output_type": "stream",
     "text": [
      "You: he\n",
      "1\n",
      "2\n",
      "Bot: I'm not sure how to respond to that. Can you try asking something else?\n",
      "You: hlo\n",
      "2\n",
      "3\n",
      "Bot: I'm not sure how to respond to that. Can you try asking something else?\n",
      "You: wa\n",
      "3\n",
      "4\n",
      "Bot: I'm would suggest you reach out to our customer support for swift response\n",
      "You: hi\n",
      "4\n",
      "1\n",
      "Bot: Hello! Welcome to TechGadget Support. How can I assist you today?\n",
      "You: return policy\n",
      "1\n",
      "1\n",
      "Bot: You can return products within 30 days of receipt for a full refund.\n",
      "You: bye\n",
      "Bot: Goodbye! If you have any more questions, we're here to help.\n"
     ]
    }
   ],
   "source": [
    "error_count = 1\n",
    "\n",
    "while True:\n",
    "    user_input = input(\"You: \")\n",
    "    \n",
    "    if user_input.lower() in [\"quit\", \"close\", \"exit\", \"bye\"]:\n",
    "        print(\"Bot: Goodbye! If you have any more questions, we're here to help.\")\n",
    "        break\n",
    "        \n",
    "    response = get_bot_response(user_input)\n",
    "    error_count = get_error_response(response, error_count)\n",
    "    \n",
    "    # Display bot response \n",
    "    display_bot_response(response, error_count)"
   ]
  },
  {
   "cell_type": "code",
   "execution_count": null,
   "id": "99c66533",
   "metadata": {},
   "outputs": [],
   "source": []
  },
  {
   "cell_type": "code",
   "execution_count": null,
   "id": "978361e3",
   "metadata": {},
   "outputs": [],
   "source": []
  }
 ],
 "metadata": {
  "kernelspec": {
   "display_name": "conda_python3",
   "language": "python",
   "name": "conda_python3"
  },
  "language_info": {
   "codemirror_mode": {
    "name": "ipython",
    "version": 3
   },
   "file_extension": ".py",
   "mimetype": "text/x-python",
   "name": "python",
   "nbconvert_exporter": "python",
   "pygments_lexer": "ipython3",
   "version": "3.10.14"
  }
 },
 "nbformat": 4,
 "nbformat_minor": 5
}
